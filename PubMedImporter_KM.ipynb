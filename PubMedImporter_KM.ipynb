{
 "cells": [
  {
   "cell_type": "markdown",
   "id": "12bea5c7",
   "metadata": {},
   "source": [
    "Title: PubMedImporter\n",
    "\n",
    "Author: Rafael Avlarado\n",
    "\n",
    "Date: April 2022\n",
    "\n",
    "Availability: http://localhost:8888/notebooks/Documents/Research/PubMedImporter.ipynb"
   ]
  },
  {
   "cell_type": "markdown",
   "id": "5ee1ef40-a44c-4c57-89a2-c77ce5762412",
   "metadata": {},
   "source": [
    "# PubMed Importer"
   ]
  },
  {
   "cell_type": "code",
   "execution_count": 1,
   "id": "6faaebce-eb1c-4904-b3e7-ed9ede66b910",
   "metadata": {},
   "outputs": [],
   "source": [
    "import pandas as pd\n",
    "from glob import glob\n",
    "import re"
   ]
  },
  {
   "cell_type": "code",
   "execution_count": 3,
   "id": "8179a372-76e0-421a-996a-e7c44547288d",
   "metadata": {},
   "outputs": [],
   "source": [
    "abstracts_files_mask = 'PubMed/Abstracts/*.txt'"
   ]
  },
  {
   "cell_type": "code",
   "execution_count": 4,
   "id": "7517e82d-e1bc-4341-bd7e-53acc9437d7a",
   "metadata": {},
   "outputs": [
    {
     "name": "stdout",
     "output_type": "stream",
     "text": [
      "PubMed/Abstracts/pubmed-physicalfi-set (1).txt\n",
      "PubMed/Abstracts/pubmed-physicalfi-set (2).txt\n",
      "PubMed/Abstracts/pubmed-physicalfi-set (3).txt\n",
      "PubMed/Abstracts/pubmed-physicalfi-set (4).txt\n",
      "PubMed/Abstracts/pubmed-physicalfi-set (5).txt\n",
      "PubMed/Abstracts/pubmed-physicalfi-set (6).txt\n",
      "PubMed/Abstracts/pubmed-physicalfi-set (7).txt\n",
      "PubMed/Abstracts/pubmed-physicalfi-set (8).txt\n",
      "PubMed/Abstracts/pubmed-physicalfi-set (9).txt\n"
     ]
    }
   ],
   "source": [
    "doc_id = None\n",
    "key = None\n",
    "val = None\n",
    "data = {}\n",
    "for file in sorted(glob(abstracts_files_mask)):\n",
    "    print(file)\n",
    "    for line in open(file, encoding=\"utf8\").readlines():\n",
    "        line = line.rstrip()\n",
    "        if re.match(r\"^\\w\", line): \n",
    "            r = line.split('-')\n",
    "            key = r[0].strip()\n",
    "            val = '-'.join(r[1:])\n",
    "            if key == 'PMID':\n",
    "                doc_id = val\n",
    "                data[doc_id] = {}\n",
    "            else:\n",
    "                data[doc_id][key] = val\n",
    "        else:\n",
    "            data[doc_id][key] += line.strip() + \" \"            "
   ]
  },
  {
   "cell_type": "code",
   "execution_count": 5,
   "id": "e37f0c3d-d207-4783-b521-68473134f29b",
   "metadata": {},
   "outputs": [],
   "source": [
    "DF = pd.DataFrame(data).T.sort_index()"
   ]
  },
  {
   "cell_type": "code",
   "execution_count": 6,
   "id": "bce9fa07-2a50-4e25-a6c3-5aacfc3fb835",
   "metadata": {},
   "outputs": [
    {
     "data": {
      "text/plain": [
       "(59280, 79)"
      ]
     },
     "execution_count": 6,
     "metadata": {},
     "output_type": "execute_result"
    }
   ],
   "source": [
    "DF.shape"
   ]
  },
  {
   "cell_type": "code",
   "execution_count": 7,
   "id": "9e6203b1",
   "metadata": {},
   "outputs": [
    {
     "data": {
      "text/plain": [
       " 16386740     BACKGROUND: Although many pregnant women expe...\n",
       " 16387814     Non-invasive methods for detection of coronar...\n",
       " 16396980     OBJECTIVE: To formulate EULAR recommendations...\n",
       " 16406152     Recent research in rodents suggests that exte...\n",
       " 16463043     The metabolic cost of walking (C(W)) is incre...\n",
       "                                   ...                        \n",
       " 33308820     BACKGROUND: The few previous studies that foc...\n",
       " 33308821     PURPOSE: The purpose of this study was to exa...\n",
       " 33442078     The Asia-Pacific region carries a high diseas...\n",
       " 34430662     Background: Pulmonary arterial hypertension (...\n",
       " 35187250     The Eastern Pennsylvania Delaware Geriatric E...\n",
       "Name: AB, Length: 59280, dtype: object"
      ]
     },
     "execution_count": 7,
     "metadata": {},
     "output_type": "execute_result"
    }
   ],
   "source": [
    "DF.AB"
   ]
  },
  {
   "cell_type": "markdown",
   "id": "d8952e20-78ad-4dbd-9e1b-2c02a28d54c7",
   "metadata": {},
   "source": [
    "# Data Dictionary\n",
    "\n",
    "* https://www.nlm.nih.gov/bsd/mms/medlineelements.html"
   ]
  },
  {
   "cell_type": "code",
   "execution_count": 8,
   "id": "93628fc5-af86-495c-befa-9821e0c4d7ea",
   "metadata": {},
   "outputs": [],
   "source": [
    "DICT =  pd.read_csv(\"PubMed/datadict.txt\", sep='\\t').set_index('key')"
   ]
  },
  {
   "cell_type": "markdown",
   "id": "6194203f-3c7e-4cd6-8bf5-1482cf1e5721",
   "metadata": {},
   "source": [
    "# Select Columns to Keep\n",
    "\n",
    "Keep columns that have value counts above a threshhold."
   ]
  },
  {
   "cell_type": "code",
   "execution_count": 9,
   "id": "eff50e40-e7e8-4459-816f-808c1cafde8f",
   "metadata": {},
   "outputs": [],
   "source": [
    "DICT['n'] = DICT.join(DF.T, how='right').count(1)"
   ]
  },
  {
   "cell_type": "code",
   "execution_count": 10,
   "id": "86c604ed-0a39-434a-945b-664568ad5006",
   "metadata": {},
   "outputs": [],
   "source": [
    "DICT.n = DICT.n.fillna(0).astype('int')"
   ]
  },
  {
   "cell_type": "code",
   "execution_count": 11,
   "id": "c4d8c356-e1a9-4fde-9973-b580622d4878",
   "metadata": {},
   "outputs": [
    {
     "data": {
      "text/html": [
       "<div>\n",
       "<style scoped>\n",
       "    .dataframe tbody tr th:only-of-type {\n",
       "        vertical-align: middle;\n",
       "    }\n",
       "\n",
       "    .dataframe tbody tr th {\n",
       "        vertical-align: top;\n",
       "    }\n",
       "\n",
       "    .dataframe thead th {\n",
       "        text-align: right;\n",
       "    }\n",
       "</style>\n",
       "<table border=\"1\" class=\"dataframe\">\n",
       "  <thead>\n",
       "    <tr style=\"text-align: right;\">\n",
       "      <th></th>\n",
       "      <th>value</th>\n",
       "      <th>n</th>\n",
       "    </tr>\n",
       "    <tr>\n",
       "      <th>key</th>\n",
       "      <th></th>\n",
       "      <th></th>\n",
       "    </tr>\n",
       "  </thead>\n",
       "  <tbody>\n",
       "    <tr>\n",
       "      <th>PT</th>\n",
       "      <td>Publication Type</td>\n",
       "      <td>59281</td>\n",
       "    </tr>\n",
       "    <tr>\n",
       "      <th>EDAT</th>\n",
       "      <td>Entrez Date</td>\n",
       "      <td>59281</td>\n",
       "    </tr>\n",
       "    <tr>\n",
       "      <th>DP</th>\n",
       "      <td>Date of Publication</td>\n",
       "      <td>59281</td>\n",
       "    </tr>\n",
       "    <tr>\n",
       "      <th>LA</th>\n",
       "      <td>Language</td>\n",
       "      <td>59281</td>\n",
       "    </tr>\n",
       "    <tr>\n",
       "      <th>STAT</th>\n",
       "      <td>Status</td>\n",
       "      <td>59281</td>\n",
       "    </tr>\n",
       "    <tr>\n",
       "      <th>...</th>\n",
       "      <td>...</td>\n",
       "      <td>...</td>\n",
       "    </tr>\n",
       "    <tr>\n",
       "      <th>DA</th>\n",
       "      <td>Date Created</td>\n",
       "      <td>0</td>\n",
       "    </tr>\n",
       "    <tr>\n",
       "      <th>VTI</th>\n",
       "      <td>Volume Title</td>\n",
       "      <td>0</td>\n",
       "    </tr>\n",
       "    <tr>\n",
       "      <th>PUBM</th>\n",
       "      <td>Publishing Model</td>\n",
       "      <td>0</td>\n",
       "    </tr>\n",
       "    <tr>\n",
       "      <th>PMID</th>\n",
       "      <td>PubMed Unique Identifier</td>\n",
       "      <td>0</td>\n",
       "    </tr>\n",
       "    <tr>\n",
       "      <th>DDIN</th>\n",
       "      <td>Dataset described in</td>\n",
       "      <td>0</td>\n",
       "    </tr>\n",
       "  </tbody>\n",
       "</table>\n",
       "<p>85 rows × 2 columns</p>\n",
       "</div>"
      ],
      "text/plain": [
       "                         value      n\n",
       "key                                  \n",
       "PT            Publication Type  59281\n",
       "EDAT               Entrez Date  59281\n",
       "DP         Date of Publication  59281\n",
       "LA                    Language  59281\n",
       "STAT                    Status  59281\n",
       "...                        ...    ...\n",
       "DA                Date Created      0\n",
       "VTI               Volume Title      0\n",
       "PUBM          Publishing Model      0\n",
       "PMID  PubMed Unique Identifier      0\n",
       "DDIN      Dataset described in      0\n",
       "\n",
       "[85 rows x 2 columns]"
      ]
     },
     "execution_count": 11,
     "metadata": {},
     "output_type": "execute_result"
    }
   ],
   "source": [
    "DICT.sort_values('n', ascending=False)"
   ]
  },
  {
   "cell_type": "code",
   "execution_count": 12,
   "id": "cf4dd4a5-f8bf-455e-b0b8-7f7f7e809f44",
   "metadata": {},
   "outputs": [
    {
     "data": {
      "text/plain": [
       "count       85.000000\n",
       "mean     22361.035294\n",
       "std      27002.007984\n",
       "min          0.000000\n",
       "25%          8.000000\n",
       "50%       1671.000000\n",
       "75%      58550.000000\n",
       "max      59281.000000\n",
       "Name: n, dtype: float64"
      ]
     },
     "execution_count": 12,
     "metadata": {},
     "output_type": "execute_result"
    }
   ],
   "source": [
    "DICT.n.describe()"
   ]
  },
  {
   "cell_type": "code",
   "execution_count": 13,
   "id": "742b2b4d-16ff-41a9-89aa-0a15996294dd",
   "metadata": {},
   "outputs": [
    {
     "data": {
      "text/plain": [
       "<AxesSubplot:>"
      ]
     },
     "execution_count": 13,
     "metadata": {},
     "output_type": "execute_result"
    },
    {
     "data": {
      "image/png": "[encoded data removed]",
      "text/plain": [
       "<Figure size 432x288 with 1 Axes>"
      ]
     },
     "metadata": {
      "needs_background": "light"
     },
     "output_type": "display_data"
    }
   ],
   "source": [
    "DICT.n.hist()"
   ]
  },
  {
   "cell_type": "code",
   "execution_count": 14,
   "id": "b96e58c8-b061-49f5-bdc4-e6b3fee626eb",
   "metadata": {},
   "outputs": [
    {
     "data": {
      "text/plain": [
       "value    Abstract\n",
       "n           57902\n",
       "Name: AB, dtype: object"
      ]
     },
     "execution_count": 14,
     "metadata": {},
     "output_type": "execute_result"
    }
   ],
   "source": [
    "DICT.loc['AB']"
   ]
  },
  {
   "cell_type": "code",
   "execution_count": 15,
   "id": "4c246fed-29ca-4901-82a0-c90dffa9694f",
   "metadata": {},
   "outputs": [],
   "source": [
    "n_thresh = 15"
   ]
  },
  {
   "cell_type": "code",
   "execution_count": 16,
   "id": "8c53df13-3703-4195-836a-50aec5603d6c",
   "metadata": {},
   "outputs": [],
   "source": [
    "DICT['keep'] = DICT.n >= n_thresh"
   ]
  },
  {
   "cell_type": "code",
   "execution_count": 17,
   "id": "c74ed8ea-c4c4-4a76-b4e9-374e57a2bf6e",
   "metadata": {},
   "outputs": [],
   "source": [
    "COLS = DICT[DICT.keep == True].index"
   ]
  },
  {
   "cell_type": "markdown",
   "id": "30e3012e-4231-4c4f-9e90-2f0fac5caa01",
   "metadata": {},
   "source": [
    "# Select Rows to Keep\n",
    "\n",
    "Keep rows with abstract lengths above a certain threshhold."
   ]
  },
  {
   "cell_type": "code",
   "execution_count": 18,
   "id": "2fedffcb-efa8-4f43-b0df-9803847c5d12",
   "metadata": {},
   "outputs": [],
   "source": [
    "DF2 = DF[COLS].copy()"
   ]
  },
  {
   "cell_type": "code",
   "execution_count": 19,
   "id": "cbf7e6a9-612b-4d0e-a265-f9b511718308",
   "metadata": {},
   "outputs": [
    {
     "data": {
      "text/plain": [
       "(59280, 61)"
      ]
     },
     "execution_count": 19,
     "metadata": {},
     "output_type": "execute_result"
    }
   ],
   "source": [
    "DF2.shape"
   ]
  },
  {
   "cell_type": "code",
   "execution_count": 20,
   "id": "ce15f022",
   "metadata": {},
   "outputs": [
    {
     "data": {
      "text/plain": [
       " 16386740     BACKGROUND: Although many pregnant women expe...\n",
       " 16387814     Non-invasive methods for detection of coronar...\n",
       " 16396980     OBJECTIVE: To formulate EULAR recommendations...\n",
       " 16406152     Recent research in rodents suggests that exte...\n",
       " 16463043     The metabolic cost of walking (C(W)) is incre...\n",
       "                                   ...                        \n",
       " 33308820     BACKGROUND: The few previous studies that foc...\n",
       " 33308821     PURPOSE: The purpose of this study was to exa...\n",
       " 33442078     The Asia-Pacific region carries a high diseas...\n",
       " 34430662     Background: Pulmonary arterial hypertension (...\n",
       " 35187250     The Eastern Pennsylvania Delaware Geriatric E...\n",
       "Name: AB, Length: 59280, dtype: object"
      ]
     },
     "execution_count": 20,
     "metadata": {},
     "output_type": "execute_result"
    }
   ],
   "source": [
    "DF2.AB"
   ]
  },
  {
   "cell_type": "code",
   "execution_count": 21,
   "id": "55c3556b-eed2-4d6e-85f5-67a57550b488",
   "metadata": {},
   "outputs": [],
   "source": [
    "DF2['AB_len'] = DF2.AB.str.len()"
   ]
  },
  {
   "cell_type": "code",
   "execution_count": 22,
   "id": "08de13e2",
   "metadata": {},
   "outputs": [
    {
     "data": {
      "text/html": [
       "<div>\n",
       "<style scoped>\n",
       "    .dataframe tbody tr th:only-of-type {\n",
       "        vertical-align: middle;\n",
       "    }\n",
       "\n",
       "    .dataframe tbody tr th {\n",
       "        vertical-align: top;\n",
       "    }\n",
       "\n",
       "    .dataframe thead th {\n",
       "        text-align: right;\n",
       "    }\n",
       "</style>\n",
       "<table border=\"1\" class=\"dataframe\">\n",
       "  <thead>\n",
       "    <tr style=\"text-align: right;\">\n",
       "      <th></th>\n",
       "      <th>AB</th>\n",
       "      <th>CI</th>\n",
       "      <th>AD</th>\n",
       "      <th>AID</th>\n",
       "      <th>AU</th>\n",
       "      <th>AUID</th>\n",
       "      <th>FAU</th>\n",
       "      <th>BTI</th>\n",
       "      <th>CTI</th>\n",
       "      <th>COIS</th>\n",
       "      <th>...</th>\n",
       "      <th>TT</th>\n",
       "      <th>VI</th>\n",
       "      <th>CIN</th>\n",
       "      <th>CON</th>\n",
       "      <th>EIN</th>\n",
       "      <th>RPI</th>\n",
       "      <th>UIN</th>\n",
       "      <th>UOF</th>\n",
       "      <th>SPIN</th>\n",
       "      <th>AB_len</th>\n",
       "    </tr>\n",
       "  </thead>\n",
       "  <tbody>\n",
       "    <tr>\n",
       "      <th>16386740</th>\n",
       "      <td>BACKGROUND: Although many pregnant women expe...</td>\n",
       "      <td>NaN</td>\n",
       "      <td>Gwangju Health College, South Korea.</td>\n",
       "      <td>10.1016/j.ijnurstu.2005.11.016 [doi]</td>\n",
       "      <td>Kim JS</td>\n",
       "      <td>NaN</td>\n",
       "      <td>Kim, Jin-Sun</td>\n",
       "      <td>NaN</td>\n",
       "      <td>NaN</td>\n",
       "      <td>NaN</td>\n",
       "      <td>...</td>\n",
       "      <td>NaN</td>\n",
       "      <td>44</td>\n",
       "      <td>NaN</td>\n",
       "      <td>NaN</td>\n",
       "      <td>NaN</td>\n",
       "      <td>NaN</td>\n",
       "      <td>NaN</td>\n",
       "      <td>NaN</td>\n",
       "      <td>NaN</td>\n",
       "      <td>1487.0</td>\n",
       "    </tr>\n",
       "    <tr>\n",
       "      <th>16387814</th>\n",
       "      <td>Non-invasive methods for detection of coronar...</td>\n",
       "      <td>NaN</td>\n",
       "      <td>Department of Internal Medicine, Division of ...</td>\n",
       "      <td>10.1136/hrt.2005.069195 [doi]</td>\n",
       "      <td>Grayburn PA</td>\n",
       "      <td>NaN</td>\n",
       "      <td>Grayburn, Paul A</td>\n",
       "      <td>NaN</td>\n",
       "      <td>NaN</td>\n",
       "      <td>Competing interests: PAG receives grant suppo...</td>\n",
       "      <td>...</td>\n",
       "      <td>NaN</td>\n",
       "      <td>93</td>\n",
       "      <td>NaN</td>\n",
       "      <td>NaN</td>\n",
       "      <td>NaN</td>\n",
       "      <td>NaN</td>\n",
       "      <td>NaN</td>\n",
       "      <td>NaN</td>\n",
       "      <td>NaN</td>\n",
       "      <td>974.0</td>\n",
       "    </tr>\n",
       "    <tr>\n",
       "      <th>16396980</th>\n",
       "      <td>OBJECTIVE: To formulate EULAR recommendations...</td>\n",
       "      <td>NaN</td>\n",
       "      <td>Immuno-Rhumatologie, Lapeyronie Hosp, Montpel...</td>\n",
       "      <td>10.1136/ard.2005.044354 [doi]</td>\n",
       "      <td>Yazici H</td>\n",
       "      <td>NaN</td>\n",
       "      <td>Yazici, H</td>\n",
       "      <td>NaN</td>\n",
       "      <td>NaN</td>\n",
       "      <td>NaN</td>\n",
       "      <td>...</td>\n",
       "      <td>NaN</td>\n",
       "      <td>66</td>\n",
       "      <td>Nat Clin Pract Rheumatol. 2007 Jul;3(7):374-5...</td>\n",
       "      <td>NaN</td>\n",
       "      <td>NaN</td>\n",
       "      <td>NaN</td>\n",
       "      <td>NaN</td>\n",
       "      <td>NaN</td>\n",
       "      <td>NaN</td>\n",
       "      <td>1842.0</td>\n",
       "    </tr>\n",
       "    <tr>\n",
       "      <th>16406152</th>\n",
       "      <td>Recent research in rodents suggests that exte...</td>\n",
       "      <td>NaN</td>\n",
       "      <td>Beckman Institute for Advanced Science and Te...</td>\n",
       "      <td>10.1016/j.neurobiolaging.2005.11.016 [doi]</td>\n",
       "      <td>Kramer AF</td>\n",
       "      <td>NaN</td>\n",
       "      <td>Kramer, Arthur F</td>\n",
       "      <td>NaN</td>\n",
       "      <td>NaN</td>\n",
       "      <td>NaN</td>\n",
       "      <td>...</td>\n",
       "      <td>NaN</td>\n",
       "      <td>28</td>\n",
       "      <td>NaN</td>\n",
       "      <td>NaN</td>\n",
       "      <td>NaN</td>\n",
       "      <td>NaN</td>\n",
       "      <td>NaN</td>\n",
       "      <td>NaN</td>\n",
       "      <td>NaN</td>\n",
       "      <td>1013.0</td>\n",
       "    </tr>\n",
       "    <tr>\n",
       "      <th>16463043</th>\n",
       "      <td>The metabolic cost of walking (C(W)) is incre...</td>\n",
       "      <td>NaN</td>\n",
       "      <td>Institute for Biophysical and Clinical Resear...</td>\n",
       "      <td>10.1007/s00421-006-0141-9 [doi]</td>\n",
       "      <td>Minetti AE</td>\n",
       "      <td>NaN</td>\n",
       "      <td>Minetti, Alberto E</td>\n",
       "      <td>NaN</td>\n",
       "      <td>NaN</td>\n",
       "      <td>NaN</td>\n",
       "      <td>...</td>\n",
       "      <td>NaN</td>\n",
       "      <td>100</td>\n",
       "      <td>NaN</td>\n",
       "      <td>NaN</td>\n",
       "      <td>NaN</td>\n",
       "      <td>NaN</td>\n",
       "      <td>NaN</td>\n",
       "      <td>NaN</td>\n",
       "      <td>NaN</td>\n",
       "      <td>1509.0</td>\n",
       "    </tr>\n",
       "    <tr>\n",
       "      <th>...</th>\n",
       "      <td>...</td>\n",
       "      <td>...</td>\n",
       "      <td>...</td>\n",
       "      <td>...</td>\n",
       "      <td>...</td>\n",
       "      <td>...</td>\n",
       "      <td>...</td>\n",
       "      <td>...</td>\n",
       "      <td>...</td>\n",
       "      <td>...</td>\n",
       "      <td>...</td>\n",
       "      <td>...</td>\n",
       "      <td>...</td>\n",
       "      <td>...</td>\n",
       "      <td>...</td>\n",
       "      <td>...</td>\n",
       "      <td>...</td>\n",
       "      <td>...</td>\n",
       "      <td>...</td>\n",
       "      <td>...</td>\n",
       "      <td>...</td>\n",
       "    </tr>\n",
       "    <tr>\n",
       "      <th>33308820</th>\n",
       "      <td>BACKGROUND: The few previous studies that foc...</td>\n",
       "      <td>Copyright © 2019. Production and hosting by E...</td>\n",
       "      <td>Graduate Institute of Sports Equipment Techno...</td>\n",
       "      <td>10.1016/j.jshs.2017.01.001 [doi]</td>\n",
       "      <td>Liu C</td>\n",
       "      <td>NaN</td>\n",
       "      <td>Liu, Chiang</td>\n",
       "      <td>NaN</td>\n",
       "      <td>NaN</td>\n",
       "      <td>NaN</td>\n",
       "      <td>...</td>\n",
       "      <td>NaN</td>\n",
       "      <td>9</td>\n",
       "      <td>NaN</td>\n",
       "      <td>NaN</td>\n",
       "      <td>NaN</td>\n",
       "      <td>NaN</td>\n",
       "      <td>NaN</td>\n",
       "      <td>NaN</td>\n",
       "      <td>NaN</td>\n",
       "      <td>1634.0</td>\n",
       "    </tr>\n",
       "    <tr>\n",
       "      <th>33308821</th>\n",
       "      <td>PURPOSE: The purpose of this study was to exa...</td>\n",
       "      <td>Copyright © 2019. Production and hosting by E...</td>\n",
       "      <td>Sports Research Centre, Miguel Hernandez Univ...</td>\n",
       "      <td>10.1016/j.jshs.2016.08.011 [doi]</td>\n",
       "      <td>Vera-Garcia FJ</td>\n",
       "      <td>NaN</td>\n",
       "      <td>Vera-Garcia, Francisco J</td>\n",
       "      <td>NaN</td>\n",
       "      <td>NaN</td>\n",
       "      <td>NaN</td>\n",
       "      <td>...</td>\n",
       "      <td>NaN</td>\n",
       "      <td>9</td>\n",
       "      <td>NaN</td>\n",
       "      <td>NaN</td>\n",
       "      <td>NaN</td>\n",
       "      <td>NaN</td>\n",
       "      <td>NaN</td>\n",
       "      <td>NaN</td>\n",
       "      <td>NaN</td>\n",
       "      <td>2123.0</td>\n",
       "    </tr>\n",
       "    <tr>\n",
       "      <th>33442078</th>\n",
       "      <td>The Asia-Pacific region carries a high diseas...</td>\n",
       "      <td>© 2017 Journal of the ASEAN Federation of End...</td>\n",
       "      <td>National Institute of Diabetes and Endocrinol...</td>\n",
       "      <td>10.15605/jafes.032.01.02 [doi]</td>\n",
       "      <td>Uddin F</td>\n",
       "      <td>NaN</td>\n",
       "      <td>Uddin, Farid</td>\n",
       "      <td>NaN</td>\n",
       "      <td>NaN</td>\n",
       "      <td>The authors have received honoraria for their...</td>\n",
       "      <td>...</td>\n",
       "      <td>NaN</td>\n",
       "      <td>32</td>\n",
       "      <td>NaN</td>\n",
       "      <td>NaN</td>\n",
       "      <td>NaN</td>\n",
       "      <td>NaN</td>\n",
       "      <td>NaN</td>\n",
       "      <td>NaN</td>\n",
       "      <td>NaN</td>\n",
       "      <td>1488.0</td>\n",
       "    </tr>\n",
       "    <tr>\n",
       "      <th>34430662</th>\n",
       "      <td>Background: Pulmonary arterial hypertension (...</td>\n",
       "      <td>NaN</td>\n",
       "      <td>Policy Analysis Inc. (PAI), Brookline, MA, USA.</td>\n",
       "      <td>9871 [pii]</td>\n",
       "      <td>Oster G</td>\n",
       "      <td>NaN</td>\n",
       "      <td>Oster, Gerry</td>\n",
       "      <td>NaN</td>\n",
       "      <td>NaN</td>\n",
       "      <td>NaN</td>\n",
       "      <td>...</td>\n",
       "      <td>NaN</td>\n",
       "      <td>1</td>\n",
       "      <td>NaN</td>\n",
       "      <td>NaN</td>\n",
       "      <td>NaN</td>\n",
       "      <td>NaN</td>\n",
       "      <td>NaN</td>\n",
       "      <td>NaN</td>\n",
       "      <td>NaN</td>\n",
       "      <td>1974.0</td>\n",
       "    </tr>\n",
       "    <tr>\n",
       "      <th>35187250</th>\n",
       "      <td>The Eastern Pennsylvania Delaware Geriatric E...</td>\n",
       "      <td>© 2015 SAGE Publications.</td>\n",
       "      <td>Department of Occupational Therapy, Jefferson...</td>\n",
       "      <td>10.4137/JMECD.S18928 [doi]</td>\n",
       "      <td>Keats P</td>\n",
       "      <td>NaN</td>\n",
       "      <td>Keats, Pamela</td>\n",
       "      <td>NaN</td>\n",
       "      <td>NaN</td>\n",
       "      <td>NaN</td>\n",
       "      <td>...</td>\n",
       "      <td>NaN</td>\n",
       "      <td>2</td>\n",
       "      <td>NaN</td>\n",
       "      <td>NaN</td>\n",
       "      <td>NaN</td>\n",
       "      <td>NaN</td>\n",
       "      <td>NaN</td>\n",
       "      <td>NaN</td>\n",
       "      <td>NaN</td>\n",
       "      <td>1575.0</td>\n",
       "    </tr>\n",
       "  </tbody>\n",
       "</table>\n",
       "<p>59280 rows × 62 columns</p>\n",
       "</div>"
      ],
      "text/plain": [
       "                                                          AB  \\\n",
       " 16386740   BACKGROUND: Although many pregnant women expe...   \n",
       " 16387814   Non-invasive methods for detection of coronar...   \n",
       " 16396980   OBJECTIVE: To formulate EULAR recommendations...   \n",
       " 16406152   Recent research in rodents suggests that exte...   \n",
       " 16463043   The metabolic cost of walking (C(W)) is incre...   \n",
       "...                                                      ...   \n",
       " 33308820   BACKGROUND: The few previous studies that foc...   \n",
       " 33308821   PURPOSE: The purpose of this study was to exa...   \n",
       " 33442078   The Asia-Pacific region carries a high diseas...   \n",
       " 34430662   Background: Pulmonary arterial hypertension (...   \n",
       " 35187250   The Eastern Pennsylvania Delaware Geriatric E...   \n",
       "\n",
       "                                                          CI  \\\n",
       " 16386740                                                NaN   \n",
       " 16387814                                                NaN   \n",
       " 16396980                                                NaN   \n",
       " 16406152                                                NaN   \n",
       " 16463043                                                NaN   \n",
       "...                                                      ...   \n",
       " 33308820   Copyright © 2019. Production and hosting by E...   \n",
       " 33308821   Copyright © 2019. Production and hosting by E...   \n",
       " 33442078   © 2017 Journal of the ASEAN Federation of End...   \n",
       " 34430662                                                NaN   \n",
       " 35187250                          © 2015 SAGE Publications.   \n",
       "\n",
       "                                                          AD  \\\n",
       " 16386740               Gwangju Health College, South Korea.   \n",
       " 16387814   Department of Internal Medicine, Division of ...   \n",
       " 16396980   Immuno-Rhumatologie, Lapeyronie Hosp, Montpel...   \n",
       " 16406152   Beckman Institute for Advanced Science and Te...   \n",
       " 16463043   Institute for Biophysical and Clinical Resear...   \n",
       "...                                                      ...   \n",
       " 33308820   Graduate Institute of Sports Equipment Techno...   \n",
       " 33308821   Sports Research Centre, Miguel Hernandez Univ...   \n",
       " 33442078   National Institute of Diabetes and Endocrinol...   \n",
       " 34430662    Policy Analysis Inc. (PAI), Brookline, MA, USA.   \n",
       " 35187250   Department of Occupational Therapy, Jefferson...   \n",
       "\n",
       "                                                   AID               AU AUID  \\\n",
       " 16386740         10.1016/j.ijnurstu.2005.11.016 [doi]           Kim JS  NaN   \n",
       " 16387814                10.1136/hrt.2005.069195 [doi]      Grayburn PA  NaN   \n",
       " 16396980                10.1136/ard.2005.044354 [doi]         Yazici H  NaN   \n",
       " 16406152   10.1016/j.neurobiolaging.2005.11.016 [doi]        Kramer AF  NaN   \n",
       " 16463043              10.1007/s00421-006-0141-9 [doi]       Minetti AE  NaN   \n",
       "...                                                ...              ...  ...   \n",
       " 33308820             10.1016/j.jshs.2017.01.001 [doi]            Liu C  NaN   \n",
       " 33308821             10.1016/j.jshs.2016.08.011 [doi]   Vera-Garcia FJ  NaN   \n",
       " 33442078               10.15605/jafes.032.01.02 [doi]          Uddin F  NaN   \n",
       " 34430662                                   9871 [pii]          Oster G  NaN   \n",
       " 35187250                   10.4137/JMECD.S18928 [doi]          Keats P  NaN   \n",
       "\n",
       "                                 FAU  BTI  CTI  \\\n",
       " 16386740               Kim, Jin-Sun  NaN  NaN   \n",
       " 16387814           Grayburn, Paul A  NaN  NaN   \n",
       " 16396980                  Yazici, H  NaN  NaN   \n",
       " 16406152           Kramer, Arthur F  NaN  NaN   \n",
       " 16463043         Minetti, Alberto E  NaN  NaN   \n",
       "...                              ...  ...  ...   \n",
       " 33308820                Liu, Chiang  NaN  NaN   \n",
       " 33308821   Vera-Garcia, Francisco J  NaN  NaN   \n",
       " 33442078               Uddin, Farid  NaN  NaN   \n",
       " 34430662               Oster, Gerry  NaN  NaN   \n",
       " 35187250              Keats, Pamela  NaN  NaN   \n",
       "\n",
       "                                                        COIS  ...   TT    VI  \\\n",
       " 16386740                                                NaN  ...  NaN    44   \n",
       " 16387814   Competing interests: PAG receives grant suppo...  ...  NaN    93   \n",
       " 16396980                                                NaN  ...  NaN    66   \n",
       " 16406152                                                NaN  ...  NaN    28   \n",
       " 16463043                                                NaN  ...  NaN   100   \n",
       "...                                                      ...  ...  ...   ...   \n",
       " 33308820                                                NaN  ...  NaN     9   \n",
       " 33308821                                                NaN  ...  NaN     9   \n",
       " 33442078   The authors have received honoraria for their...  ...  NaN    32   \n",
       " 34430662                                                NaN  ...  NaN     1   \n",
       " 35187250                                                NaN  ...  NaN     2   \n",
       "\n",
       "                                                         CIN  CON  EIN  RPI  \\\n",
       " 16386740                                                NaN  NaN  NaN  NaN   \n",
       " 16387814                                                NaN  NaN  NaN  NaN   \n",
       " 16396980   Nat Clin Pract Rheumatol. 2007 Jul;3(7):374-5...  NaN  NaN  NaN   \n",
       " 16406152                                                NaN  NaN  NaN  NaN   \n",
       " 16463043                                                NaN  NaN  NaN  NaN   \n",
       "...                                                      ...  ...  ...  ...   \n",
       " 33308820                                                NaN  NaN  NaN  NaN   \n",
       " 33308821                                                NaN  NaN  NaN  NaN   \n",
       " 33442078                                                NaN  NaN  NaN  NaN   \n",
       " 34430662                                                NaN  NaN  NaN  NaN   \n",
       " 35187250                                                NaN  NaN  NaN  NaN   \n",
       "\n",
       "           UIN  UOF SPIN  AB_len  \n",
       " 16386740  NaN  NaN  NaN  1487.0  \n",
       " 16387814  NaN  NaN  NaN   974.0  \n",
       " 16396980  NaN  NaN  NaN  1842.0  \n",
       " 16406152  NaN  NaN  NaN  1013.0  \n",
       " 16463043  NaN  NaN  NaN  1509.0  \n",
       "...        ...  ...  ...     ...  \n",
       " 33308820  NaN  NaN  NaN  1634.0  \n",
       " 33308821  NaN  NaN  NaN  2123.0  \n",
       " 33442078  NaN  NaN  NaN  1488.0  \n",
       " 34430662  NaN  NaN  NaN  1974.0  \n",
       " 35187250  NaN  NaN  NaN  1575.0  \n",
       "\n",
       "[59280 rows x 62 columns]"
      ]
     },
     "execution_count": 22,
     "metadata": {},
     "output_type": "execute_result"
    }
   ],
   "source": [
    "DF2"
   ]
  },
  {
   "cell_type": "code",
   "execution_count": 23,
   "id": "bb6fd6cc-3c38-4e4e-b021-ddf28c75da63",
   "metadata": {},
   "outputs": [
    {
     "data": {
      "text/plain": [
       "count    57901.000000\n",
       "mean      1660.933611\n",
       "std        604.252561\n",
       "min         98.000000\n",
       "25%       1385.000000\n",
       "50%       1651.000000\n",
       "75%       1860.000000\n",
       "max      62920.000000\n",
       "Name: AB_len, dtype: float64"
      ]
     },
     "execution_count": 23,
     "metadata": {},
     "output_type": "execute_result"
    }
   ],
   "source": [
    "DF2.AB_len.describe()"
   ]
  },
  {
   "cell_type": "code",
   "execution_count": 24,
   "id": "81171c67-5a72-4f4d-818b-b9da0d02bc09",
   "metadata": {},
   "outputs": [
    {
     "data": {
      "image/png": "[encoded data removed]",
      "text/plain": [
       "<Figure size 432x288 with 1 Axes>"
      ]
     },
     "metadata": {
      "needs_background": "light"
     },
     "output_type": "display_data"
    }
   ],
   "source": [
    "DF2.value_counts('AB_len').plot.box();"
   ]
  },
  {
   "cell_type": "code",
   "execution_count": 25,
   "id": "f46a0b37-4fda-4fd7-a4f4-3973168aad80",
   "metadata": {},
   "outputs": [],
   "source": [
    "len_thresh = 25"
   ]
  },
  {
   "cell_type": "code",
   "execution_count": 26,
   "id": "995dba4e-aa48-4007-99b0-91e0538a8beb",
   "metadata": {},
   "outputs": [],
   "source": [
    "DF3 = DF2[DF2.AB_len > len_thresh]"
   ]
  },
  {
   "cell_type": "code",
   "execution_count": 27,
   "id": "201f0227-96c1-44cd-afe3-ce10fc251efa",
   "metadata": {},
   "outputs": [
    {
     "data": {
      "text/plain": [
       "(57901, 62)"
      ]
     },
     "execution_count": 27,
     "metadata": {},
     "output_type": "execute_result"
    }
   ],
   "source": [
    "DF3.shape"
   ]
  },
  {
   "cell_type": "code",
   "execution_count": 28,
   "id": "ffc721d1-ccd1-4c8e-bba4-667a00587818",
   "metadata": {},
   "outputs": [
    {
     "data": {
      "text/plain": [
       "ISBN         14\n",
       "FED          20\n",
       "ED           20\n",
       "RPI          29\n",
       "CTI          38\n",
       "          ...  \n",
       "EDAT      57901\n",
       "DP        57901\n",
       "CRDT      57901\n",
       "STAT      57901\n",
       "AB_len    57901\n",
       "Length: 62, dtype: int64"
      ]
     },
     "execution_count": 28,
     "metadata": {},
     "output_type": "execute_result"
    }
   ],
   "source": [
    "DF3.count().sort_values()"
   ]
  },
  {
   "cell_type": "markdown",
   "id": "2e55991e-8cb7-401f-8d01-74127378f3ab",
   "metadata": {},
   "source": [
    "# Note\n",
    "\n",
    "You may want to keep only ~rows~ cols that have a value of 57901, unless you want to impute values in the other columns."
   ]
  },
  {
   "cell_type": "code",
   "execution_count": 29,
   "id": "101241e6-b027-457b-af7d-03458a3100b9",
   "metadata": {
    "scrolled": true
   },
   "outputs": [],
   "source": [
    "# col_thresh = 106990\n",
    "# result = DF3.count()\n",
    "# result\n",
    "# DF4 = DF3[:, result > col_thresh]"
   ]
  },
  {
   "cell_type": "code",
   "execution_count": 30,
   "id": "d2381836-1558-40f4-af5c-5566b2dc41d0",
   "metadata": {},
   "outputs": [
    {
     "data": {
      "text/plain": [
       "count       85.000000\n",
       "mean     22361.035294\n",
       "std      27002.007984\n",
       "min          0.000000\n",
       "25%          8.000000\n",
       "50%       1671.000000\n",
       "75%      58550.000000\n",
       "max      59281.000000\n",
       "Name: n, dtype: float64"
      ]
     },
     "execution_count": 30,
     "metadata": {},
     "output_type": "execute_result"
    }
   ],
   "source": [
    "DICT.n.describe()"
   ]
  },
  {
   "cell_type": "code",
   "execution_count": 31,
   "id": "d9656569-e0b6-4bc7-af2c-05a40ab14b4d",
   "metadata": {},
   "outputs": [
    {
     "data": {
      "image/png": "[encoded data removed]",
      "text/plain": [
       "<Figure size 432x288 with 1 Axes>"
      ]
     },
     "metadata": {
      "needs_background": "light"
     },
     "output_type": "display_data"
    }
   ],
   "source": [
    "DICT.n.plot.kde();"
   ]
  },
  {
   "cell_type": "code",
   "execution_count": 32,
   "id": "e55c99e6-42e4-4c0e-9f81-294791db6ba6",
   "metadata": {
    "tags": []
   },
   "outputs": [],
   "source": [
    "col_thresh = DICT.n.quantile(.7)\n",
    "# col_thresh = 3000 # <-- If you want to keep more"
   ]
  },
  {
   "cell_type": "code",
   "execution_count": 33,
   "id": "63d61b17-830d-4615-b3dd-632e48901185",
   "metadata": {},
   "outputs": [
    {
     "data": {
      "text/plain": [
       "56797.4"
      ]
     },
     "execution_count": 33,
     "metadata": {},
     "output_type": "execute_result"
    }
   ],
   "source": [
    "col_thresh"
   ]
  },
  {
   "cell_type": "code",
   "execution_count": 34,
   "id": "35660351-9e2a-495c-aa7a-8c711647ac8d",
   "metadata": {},
   "outputs": [],
   "source": [
    "KEEP_COLS = DICT[DICT.n >= col_thresh].index"
   ]
  },
  {
   "cell_type": "code",
   "execution_count": 35,
   "id": "65356532-9279-4d2c-bc25-4a81bcec08cf",
   "metadata": {
    "scrolled": true
   },
   "outputs": [],
   "source": [
    "DF4 = DF3[KEEP_COLS]"
   ]
  },
  {
   "cell_type": "code",
   "execution_count": 36,
   "id": "b9058f86",
   "metadata": {},
   "outputs": [
    {
     "data": {
      "text/html": [
       "<div>\n",
       "<style scoped>\n",
       "    .dataframe tbody tr th:only-of-type {\n",
       "        vertical-align: middle;\n",
       "    }\n",
       "\n",
       "    .dataframe tbody tr th {\n",
       "        vertical-align: top;\n",
       "    }\n",
       "\n",
       "    .dataframe thead th {\n",
       "        text-align: right;\n",
       "    }\n",
       "</style>\n",
       "<table border=\"1\" class=\"dataframe\">\n",
       "  <thead>\n",
       "    <tr style=\"text-align: right;\">\n",
       "      <th></th>\n",
       "      <th>AB</th>\n",
       "      <th>AD</th>\n",
       "      <th>AID</th>\n",
       "      <th>AU</th>\n",
       "      <th>FAU</th>\n",
       "      <th>CRDT</th>\n",
       "      <th>DCOM</th>\n",
       "      <th>LR</th>\n",
       "      <th>DP</th>\n",
       "      <th>EDAT</th>\n",
       "      <th>...</th>\n",
       "      <th>JID</th>\n",
       "      <th>OWN</th>\n",
       "      <th>PG</th>\n",
       "      <th>PHST</th>\n",
       "      <th>PST</th>\n",
       "      <th>PT</th>\n",
       "      <th>SO</th>\n",
       "      <th>STAT</th>\n",
       "      <th>TI</th>\n",
       "      <th>VI</th>\n",
       "    </tr>\n",
       "  </thead>\n",
       "  <tbody>\n",
       "    <tr>\n",
       "      <th>16386740</th>\n",
       "      <td>BACKGROUND: Although many pregnant women expe...</td>\n",
       "      <td>Gwangju Health College, South Korea.</td>\n",
       "      <td>10.1016/j.ijnurstu.2005.11.016 [doi]</td>\n",
       "      <td>Kim JS</td>\n",
       "      <td>Kim, Jin-Sun</td>\n",
       "      <td>2006/01/03 09:00</td>\n",
       "      <td>20070302</td>\n",
       "      <td>20220311</td>\n",
       "      <td>2007 Jan</td>\n",
       "      <td>2006/01/03 09:00</td>\n",
       "      <td>...</td>\n",
       "      <td>0400675</td>\n",
       "      <td>NLM</td>\n",
       "      <td>19-28</td>\n",
       "      <td>2006/01/03 09:00 [entrez]</td>\n",
       "      <td>ppublish</td>\n",
       "      <td>Multicenter Study</td>\n",
       "      <td>Int J Nurs Stud. 2007 Jan;44(1):19-28. doi: 1...</td>\n",
       "      <td>MEDLINE</td>\n",
       "      <td>Effects of a back-pain-reducing program durin...</td>\n",
       "      <td>44</td>\n",
       "    </tr>\n",
       "    <tr>\n",
       "      <th>16387814</th>\n",
       "      <td>Non-invasive methods for detection of coronar...</td>\n",
       "      <td>Department of Internal Medicine, Division of ...</td>\n",
       "      <td>10.1136/hrt.2005.069195 [doi]</td>\n",
       "      <td>Grayburn PA</td>\n",
       "      <td>Grayburn, Paul A</td>\n",
       "      <td>2006/01/03 09:00</td>\n",
       "      <td>20070417</td>\n",
       "      <td>20181113</td>\n",
       "      <td>2007 Mar</td>\n",
       "      <td>2006/01/03 09:00</td>\n",
       "      <td>...</td>\n",
       "      <td>9602087</td>\n",
       "      <td>NLM</td>\n",
       "      <td>290-7</td>\n",
       "      <td>2006/01/03 09:00 [entrez]</td>\n",
       "      <td>ppublish</td>\n",
       "      <td>Journal Article</td>\n",
       "      <td>Heart. 2007 Mar;93(3):290-7. doi: 10.1136/hrt...</td>\n",
       "      <td>MEDLINE</td>\n",
       "      <td>Non-invasive coronary angiography using multi...</td>\n",
       "      <td>93</td>\n",
       "    </tr>\n",
       "    <tr>\n",
       "      <th>16396980</th>\n",
       "      <td>OBJECTIVE: To formulate EULAR recommendations...</td>\n",
       "      <td>Immuno-Rhumatologie, Lapeyronie Hosp, Montpel...</td>\n",
       "      <td>10.1136/ard.2005.044354 [doi]</td>\n",
       "      <td>Yazici H</td>\n",
       "      <td>Yazici, H</td>\n",
       "      <td>2006/01/07 09:00</td>\n",
       "      <td>20070130</td>\n",
       "      <td>20220330</td>\n",
       "      <td>2007 Jan</td>\n",
       "      <td>2006/01/07 09:00</td>\n",
       "      <td>...</td>\n",
       "      <td>0372355</td>\n",
       "      <td>NLM</td>\n",
       "      <td>34-45</td>\n",
       "      <td>2006/01/07 09:00 [entrez]</td>\n",
       "      <td>ppublish</td>\n",
       "      <td>Practice Guideline</td>\n",
       "      <td>Ann Rheum Dis. 2007 Jan;66(1):34-45. doi: 10....</td>\n",
       "      <td>MEDLINE</td>\n",
       "      <td>EULAR recommendations for the management of e...</td>\n",
       "      <td>66</td>\n",
       "    </tr>\n",
       "    <tr>\n",
       "      <th>16406152</th>\n",
       "      <td>Recent research in rodents suggests that exte...</td>\n",
       "      <td>Beckman Institute for Advanced Science and Te...</td>\n",
       "      <td>10.1016/j.neurobiolaging.2005.11.016 [doi]</td>\n",
       "      <td>Kramer AF</td>\n",
       "      <td>Kramer, Arthur F</td>\n",
       "      <td>2006/01/13 09:00</td>\n",
       "      <td>20070109</td>\n",
       "      <td>20131121</td>\n",
       "      <td>2007 Feb</td>\n",
       "      <td>2006/01/13 09:00</td>\n",
       "      <td>...</td>\n",
       "      <td>8100437</td>\n",
       "      <td>NLM</td>\n",
       "      <td>179-85</td>\n",
       "      <td>2006/01/13 09:00 [entrez]</td>\n",
       "      <td>ppublish</td>\n",
       "      <td>Research Support, Non-U.S. Gov't</td>\n",
       "      <td>Neurobiol Aging. 2007 Feb;28(2):179-85. doi: ...</td>\n",
       "      <td>MEDLINE</td>\n",
       "      <td>Interactive effects of fitness and hormone tr...</td>\n",
       "      <td>28</td>\n",
       "    </tr>\n",
       "    <tr>\n",
       "      <th>16463043</th>\n",
       "      <td>The metabolic cost of walking (C(W)) is incre...</td>\n",
       "      <td>Institute for Biophysical and Clinical Resear...</td>\n",
       "      <td>10.1007/s00421-006-0141-9 [doi]</td>\n",
       "      <td>Minetti AE</td>\n",
       "      <td>Minetti, Alberto E</td>\n",
       "      <td>2006/02/08 09:00</td>\n",
       "      <td>20071018</td>\n",
       "      <td>20220330</td>\n",
       "      <td>2007 Jul</td>\n",
       "      <td>2006/02/08 09:00</td>\n",
       "      <td>...</td>\n",
       "      <td>100954790</td>\n",
       "      <td>NLM</td>\n",
       "      <td>499-505</td>\n",
       "      <td>2006/02/08 09:00 [entrez]</td>\n",
       "      <td>ppublish</td>\n",
       "      <td>Research Support, Non-U.S. Gov't</td>\n",
       "      <td>Eur J Appl Physiol. 2007 Jul;100(5):499-505. ...</td>\n",
       "      <td>MEDLINE</td>\n",
       "      <td>Effect of a 12-month physical conditioning pr...</td>\n",
       "      <td>100</td>\n",
       "    </tr>\n",
       "    <tr>\n",
       "      <th>...</th>\n",
       "      <td>...</td>\n",
       "      <td>...</td>\n",
       "      <td>...</td>\n",
       "      <td>...</td>\n",
       "      <td>...</td>\n",
       "      <td>...</td>\n",
       "      <td>...</td>\n",
       "      <td>...</td>\n",
       "      <td>...</td>\n",
       "      <td>...</td>\n",
       "      <td>...</td>\n",
       "      <td>...</td>\n",
       "      <td>...</td>\n",
       "      <td>...</td>\n",
       "      <td>...</td>\n",
       "      <td>...</td>\n",
       "      <td>...</td>\n",
       "      <td>...</td>\n",
       "      <td>...</td>\n",
       "      <td>...</td>\n",
       "      <td>...</td>\n",
       "    </tr>\n",
       "    <tr>\n",
       "      <th>33308820</th>\n",
       "      <td>BACKGROUND: The few previous studies that foc...</td>\n",
       "      <td>Graduate Institute of Sports Equipment Techno...</td>\n",
       "      <td>10.1016/j.jshs.2017.01.001 [doi]</td>\n",
       "      <td>Liu C</td>\n",
       "      <td>Liu, Chiang</td>\n",
       "      <td>2020/12/14 10:03</td>\n",
       "      <td>20210512</td>\n",
       "      <td>20210512</td>\n",
       "      <td>2020 Dec</td>\n",
       "      <td>2020/12/15 06:00</td>\n",
       "      <td>...</td>\n",
       "      <td>101606001</td>\n",
       "      <td>NLM</td>\n",
       "      <td>685-691</td>\n",
       "      <td>2021/05/13 06:00 [medline]</td>\n",
       "      <td>ppublish</td>\n",
       "      <td>Journal Article</td>\n",
       "      <td>J Sport Health Sci. 2020 Dec;9(6):685-691. do...</td>\n",
       "      <td>MEDLINE</td>\n",
       "      <td>Effects of compression garments on surface EM...</td>\n",
       "      <td>9</td>\n",
       "    </tr>\n",
       "    <tr>\n",
       "      <th>33308821</th>\n",
       "      <td>PURPOSE: The purpose of this study was to exa...</td>\n",
       "      <td>Sports Research Centre, Miguel Hernandez Univ...</td>\n",
       "      <td>10.1016/j.jshs.2016.08.011 [doi]</td>\n",
       "      <td>Vera-Garcia FJ</td>\n",
       "      <td>Vera-Garcia, Francisco J</td>\n",
       "      <td>2020/12/14 10:03</td>\n",
       "      <td>20210512</td>\n",
       "      <td>20210512</td>\n",
       "      <td>2020 Dec</td>\n",
       "      <td>2020/12/15 06:00</td>\n",
       "      <td>...</td>\n",
       "      <td>101606001</td>\n",
       "      <td>NLM</td>\n",
       "      <td>692-701</td>\n",
       "      <td>2021/05/13 06:00 [medline]</td>\n",
       "      <td>ppublish</td>\n",
       "      <td>Research Support, Non-U.S. Gov't</td>\n",
       "      <td>J Sport Health Sci. 2020 Dec;9(6):692-701. do...</td>\n",
       "      <td>MEDLINE</td>\n",
       "      <td>Isokinetic trunk flexion-extension protocol t...</td>\n",
       "      <td>9</td>\n",
       "    </tr>\n",
       "    <tr>\n",
       "      <th>33442078</th>\n",
       "      <td>The Asia-Pacific region carries a high diseas...</td>\n",
       "      <td>National Institute of Diabetes and Endocrinol...</td>\n",
       "      <td>10.15605/jafes.032.01.02 [doi]</td>\n",
       "      <td>Uddin F</td>\n",
       "      <td>Uddin, Farid</td>\n",
       "      <td>2021/01/14 05:46</td>\n",
       "      <td>NaN</td>\n",
       "      <td>20210115</td>\n",
       "      <td>2017</td>\n",
       "      <td>2017/01/01 00:00</td>\n",
       "      <td>...</td>\n",
       "      <td>8608483</td>\n",
       "      <td>NLM</td>\n",
       "      <td>6-12</td>\n",
       "      <td>2017/01/01 00:01 [medline]</td>\n",
       "      <td>ppublish</td>\n",
       "      <td>Journal Article</td>\n",
       "      <td>J ASEAN Fed Endocr Soc. 2017;32(1):6-12. doi:...</td>\n",
       "      <td>PubMed-not-MEDLINE</td>\n",
       "      <td>A Consensus of Key Opinion Leaders on the Man...</td>\n",
       "      <td>32</td>\n",
       "    </tr>\n",
       "    <tr>\n",
       "      <th>34430662</th>\n",
       "      <td>Background: Pulmonary arterial hypertension (...</td>\n",
       "      <td>Policy Analysis Inc. (PAI), Brookline, MA, USA.</td>\n",
       "      <td>9871 [pii]</td>\n",
       "      <td>Oster G</td>\n",
       "      <td>Oster, Gerry</td>\n",
       "      <td>2021/08/25 06:28</td>\n",
       "      <td>NaN</td>\n",
       "      <td>20210825</td>\n",
       "      <td>2014</td>\n",
       "      <td>2014/02/25 00:00</td>\n",
       "      <td>...</td>\n",
       "      <td>101648581</td>\n",
       "      <td>NLM</td>\n",
       "      <td>254-265</td>\n",
       "      <td>2014/02/25 00:01 [medline]</td>\n",
       "      <td>epublish</td>\n",
       "      <td>Journal Article</td>\n",
       "      <td>J Health Econ Outcomes Res. 2014 Feb 25;1(3):...</td>\n",
       "      <td>PubMed-not-MEDLINE</td>\n",
       "      <td>Use of Sildenafil in Pulmonary Arterial Hyper...</td>\n",
       "      <td>1</td>\n",
       "    </tr>\n",
       "    <tr>\n",
       "      <th>35187250</th>\n",
       "      <td>The Eastern Pennsylvania Delaware Geriatric E...</td>\n",
       "      <td>Department of Occupational Therapy, Jefferson...</td>\n",
       "      <td>10.4137/JMECD.S18928 [doi]</td>\n",
       "      <td>Keats P</td>\n",
       "      <td>Keats, Pamela</td>\n",
       "      <td>2022/02/21 06:06</td>\n",
       "      <td>NaN</td>\n",
       "      <td>20220223</td>\n",
       "      <td>2015 Jan-Dec</td>\n",
       "      <td>2015/03/15 00:00</td>\n",
       "      <td>...</td>\n",
       "      <td>101690298</td>\n",
       "      <td>NLM</td>\n",
       "      <td>NaN</td>\n",
       "      <td>2015/03/15 00:01 [medline]</td>\n",
       "      <td>epublish</td>\n",
       "      <td>Review</td>\n",
       "      <td>J Med Educ Curric Dev. 2015 Mar 15;2:JMECD.S1...</td>\n",
       "      <td>PubMed-not-MEDLINE</td>\n",
       "      <td>A Simulated Clinical Skills Scenario to Teach...</td>\n",
       "      <td>2</td>\n",
       "    </tr>\n",
       "  </tbody>\n",
       "</table>\n",
       "<p>57901 rows × 26 columns</p>\n",
       "</div>"
      ],
      "text/plain": [
       "                                                          AB  \\\n",
       " 16386740   BACKGROUND: Although many pregnant women expe...   \n",
       " 16387814   Non-invasive methods for detection of coronar...   \n",
       " 16396980   OBJECTIVE: To formulate EULAR recommendations...   \n",
       " 16406152   Recent research in rodents suggests that exte...   \n",
       " 16463043   The metabolic cost of walking (C(W)) is incre...   \n",
       "...                                                      ...   \n",
       " 33308820   BACKGROUND: The few previous studies that foc...   \n",
       " 33308821   PURPOSE: The purpose of this study was to exa...   \n",
       " 33442078   The Asia-Pacific region carries a high diseas...   \n",
       " 34430662   Background: Pulmonary arterial hypertension (...   \n",
       " 35187250   The Eastern Pennsylvania Delaware Geriatric E...   \n",
       "\n",
       "                                                          AD  \\\n",
       " 16386740               Gwangju Health College, South Korea.   \n",
       " 16387814   Department of Internal Medicine, Division of ...   \n",
       " 16396980   Immuno-Rhumatologie, Lapeyronie Hosp, Montpel...   \n",
       " 16406152   Beckman Institute for Advanced Science and Te...   \n",
       " 16463043   Institute for Biophysical and Clinical Resear...   \n",
       "...                                                      ...   \n",
       " 33308820   Graduate Institute of Sports Equipment Techno...   \n",
       " 33308821   Sports Research Centre, Miguel Hernandez Univ...   \n",
       " 33442078   National Institute of Diabetes and Endocrinol...   \n",
       " 34430662    Policy Analysis Inc. (PAI), Brookline, MA, USA.   \n",
       " 35187250   Department of Occupational Therapy, Jefferson...   \n",
       "\n",
       "                                                   AID               AU  \\\n",
       " 16386740         10.1016/j.ijnurstu.2005.11.016 [doi]           Kim JS   \n",
       " 16387814                10.1136/hrt.2005.069195 [doi]      Grayburn PA   \n",
       " 16396980                10.1136/ard.2005.044354 [doi]         Yazici H   \n",
       " 16406152   10.1016/j.neurobiolaging.2005.11.016 [doi]        Kramer AF   \n",
       " 16463043              10.1007/s00421-006-0141-9 [doi]       Minetti AE   \n",
       "...                                                ...              ...   \n",
       " 33308820             10.1016/j.jshs.2017.01.001 [doi]            Liu C   \n",
       " 33308821             10.1016/j.jshs.2016.08.011 [doi]   Vera-Garcia FJ   \n",
       " 33442078               10.15605/jafes.032.01.02 [doi]          Uddin F   \n",
       " 34430662                                   9871 [pii]          Oster G   \n",
       " 35187250                   10.4137/JMECD.S18928 [doi]          Keats P   \n",
       "\n",
       "                                 FAU               CRDT       DCOM         LR  \\\n",
       " 16386740               Kim, Jin-Sun   2006/01/03 09:00   20070302   20220311   \n",
       " 16387814           Grayburn, Paul A   2006/01/03 09:00   20070417   20181113   \n",
       " 16396980                  Yazici, H   2006/01/07 09:00   20070130   20220330   \n",
       " 16406152           Kramer, Arthur F   2006/01/13 09:00   20070109   20131121   \n",
       " 16463043         Minetti, Alberto E   2006/02/08 09:00   20071018   20220330   \n",
       "...                              ...                ...        ...        ...   \n",
       " 33308820                Liu, Chiang   2020/12/14 10:03   20210512   20210512   \n",
       " 33308821   Vera-Garcia, Francisco J   2020/12/14 10:03   20210512   20210512   \n",
       " 33442078               Uddin, Farid   2021/01/14 05:46        NaN   20210115   \n",
       " 34430662               Oster, Gerry   2021/08/25 06:28        NaN   20210825   \n",
       " 35187250              Keats, Pamela   2022/02/21 06:06        NaN   20220223   \n",
       "\n",
       "                      DP               EDAT  ...         JID   OWN        PG  \\\n",
       " 16386740       2007 Jan   2006/01/03 09:00  ...     0400675   NLM     19-28   \n",
       " 16387814       2007 Mar   2006/01/03 09:00  ...     9602087   NLM     290-7   \n",
       " 16396980       2007 Jan   2006/01/07 09:00  ...     0372355   NLM     34-45   \n",
       " 16406152       2007 Feb   2006/01/13 09:00  ...     8100437   NLM    179-85   \n",
       " 16463043       2007 Jul   2006/02/08 09:00  ...   100954790   NLM   499-505   \n",
       "...                  ...                ...  ...         ...   ...       ...   \n",
       " 33308820       2020 Dec   2020/12/15 06:00  ...   101606001   NLM   685-691   \n",
       " 33308821       2020 Dec   2020/12/15 06:00  ...   101606001   NLM   692-701   \n",
       " 33442078           2017   2017/01/01 00:00  ...     8608483   NLM      6-12   \n",
       " 34430662           2014   2014/02/25 00:00  ...   101648581   NLM   254-265   \n",
       " 35187250   2015 Jan-Dec   2015/03/15 00:00  ...   101690298   NLM       NaN   \n",
       "\n",
       "                                  PHST        PST  \\\n",
       " 16386740    2006/01/03 09:00 [entrez]   ppublish   \n",
       " 16387814    2006/01/03 09:00 [entrez]   ppublish   \n",
       " 16396980    2006/01/07 09:00 [entrez]   ppublish   \n",
       " 16406152    2006/01/13 09:00 [entrez]   ppublish   \n",
       " 16463043    2006/02/08 09:00 [entrez]   ppublish   \n",
       "...                                ...        ...   \n",
       " 33308820   2021/05/13 06:00 [medline]   ppublish   \n",
       " 33308821   2021/05/13 06:00 [medline]   ppublish   \n",
       " 33442078   2017/01/01 00:01 [medline]   ppublish   \n",
       " 34430662   2014/02/25 00:01 [medline]   epublish   \n",
       " 35187250   2015/03/15 00:01 [medline]   epublish   \n",
       "\n",
       "                                          PT  \\\n",
       " 16386740                  Multicenter Study   \n",
       " 16387814                    Journal Article   \n",
       " 16396980                 Practice Guideline   \n",
       " 16406152   Research Support, Non-U.S. Gov't   \n",
       " 16463043   Research Support, Non-U.S. Gov't   \n",
       "...                                      ...   \n",
       " 33308820                    Journal Article   \n",
       " 33308821   Research Support, Non-U.S. Gov't   \n",
       " 33442078                    Journal Article   \n",
       " 34430662                    Journal Article   \n",
       " 35187250                             Review   \n",
       "\n",
       "                                                          SO  \\\n",
       " 16386740   Int J Nurs Stud. 2007 Jan;44(1):19-28. doi: 1...   \n",
       " 16387814   Heart. 2007 Mar;93(3):290-7. doi: 10.1136/hrt...   \n",
       " 16396980   Ann Rheum Dis. 2007 Jan;66(1):34-45. doi: 10....   \n",
       " 16406152   Neurobiol Aging. 2007 Feb;28(2):179-85. doi: ...   \n",
       " 16463043   Eur J Appl Physiol. 2007 Jul;100(5):499-505. ...   \n",
       "...                                                      ...   \n",
       " 33308820   J Sport Health Sci. 2020 Dec;9(6):685-691. do...   \n",
       " 33308821   J Sport Health Sci. 2020 Dec;9(6):692-701. do...   \n",
       " 33442078   J ASEAN Fed Endocr Soc. 2017;32(1):6-12. doi:...   \n",
       " 34430662   J Health Econ Outcomes Res. 2014 Feb 25;1(3):...   \n",
       " 35187250   J Med Educ Curric Dev. 2015 Mar 15;2:JMECD.S1...   \n",
       "\n",
       "                          STAT  \\\n",
       " 16386740              MEDLINE   \n",
       " 16387814              MEDLINE   \n",
       " 16396980              MEDLINE   \n",
       " 16406152              MEDLINE   \n",
       " 16463043              MEDLINE   \n",
       "...                        ...   \n",
       " 33308820              MEDLINE   \n",
       " 33308821              MEDLINE   \n",
       " 33442078   PubMed-not-MEDLINE   \n",
       " 34430662   PubMed-not-MEDLINE   \n",
       " 35187250   PubMed-not-MEDLINE   \n",
       "\n",
       "                                                          TI    VI  \n",
       " 16386740   Effects of a back-pain-reducing program durin...    44  \n",
       " 16387814   Non-invasive coronary angiography using multi...    93  \n",
       " 16396980   EULAR recommendations for the management of e...    66  \n",
       " 16406152   Interactive effects of fitness and hormone tr...    28  \n",
       " 16463043   Effect of a 12-month physical conditioning pr...   100  \n",
       "...                                                      ...   ...  \n",
       " 33308820   Effects of compression garments on surface EM...     9  \n",
       " 33308821   Isokinetic trunk flexion-extension protocol t...     9  \n",
       " 33442078   A Consensus of Key Opinion Leaders on the Man...    32  \n",
       " 34430662   Use of Sildenafil in Pulmonary Arterial Hyper...     1  \n",
       " 35187250   A Simulated Clinical Skills Scenario to Teach...     2  \n",
       "\n",
       "[57901 rows x 26 columns]"
      ]
     },
     "execution_count": 36,
     "metadata": {},
     "output_type": "execute_result"
    }
   ],
   "source": [
    "DF4"
   ]
  },
  {
   "cell_type": "markdown",
   "id": "72597cf8-8352-48a6-a1c9-7c52f28aa902",
   "metadata": {},
   "source": [
    "# Save"
   ]
  },
  {
   "cell_type": "code",
   "execution_count": 37,
   "id": "18bb2abd-0a11-4b27-a91c-4e55409c7790",
   "metadata": {},
   "outputs": [],
   "source": [
    "DF4.to_csv('pm-abstracts-culled.csv', index=True)"
   ]
  },
  {
   "cell_type": "code",
   "execution_count": 38,
   "id": "1920cb41-644d-440d-8219-52403e59dcc5",
   "metadata": {},
   "outputs": [],
   "source": [
    "DICT.to_csv('pm-abstracts-datadict.csv', index=True)"
   ]
  },
  {
   "cell_type": "code",
   "execution_count": null,
   "id": "359608bd",
   "metadata": {},
   "outputs": [],
   "source": []
  }
 ],
 "metadata": {
  "kernelspec": {
   "display_name": "Python 3 (ipykernel)",
   "language": "python",
   "name": "python3"
  },
  "language_info": {
   "codemirror_mode": {
    "name": "ipython",
    "version": 3
   },
   "file_extension": ".py",
   "mimetype": "text/x-python",
   "name": "python",
   "nbconvert_exporter": "python",
   "pygments_lexer": "ipython3",
   "version": "3.9.7"
  }
 },
 "nbformat": 4,
 "nbformat_minor": 5
}
