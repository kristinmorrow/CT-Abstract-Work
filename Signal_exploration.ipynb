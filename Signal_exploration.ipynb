{
 "cells": [
  {
   "cell_type": "code",
   "execution_count": 1,
   "id": "6a43d70b",
   "metadata": {},
   "outputs": [],
   "source": [
    "import requests\n",
    "from io import StringIO\n",
    "import pandas as pd\n",
    "import numpy as np\n",
    "import tqdm\n",
    "import nltk\n",
    "import sklearn.metrics as metrics"
   ]
  },
  {
   "cell_type": "code",
   "execution_count": 2,
   "id": "ff84200c",
   "metadata": {},
   "outputs": [],
   "source": [
    "import os\n",
    "os .chdir('C:\\\\Users\\\\Kristin\\\\Documents\\\\DataSets')"
   ]
  },
  {
   "cell_type": "code",
   "execution_count": 5,
   "id": "edccee81",
   "metadata": {},
   "outputs": [
    {
     "data": {
      "text/html": [
       "<div>\n",
       "<style scoped>\n",
       "    .dataframe tbody tr th:only-of-type {\n",
       "        vertical-align: middle;\n",
       "    }\n",
       "\n",
       "    .dataframe tbody tr th {\n",
       "        vertical-align: top;\n",
       "    }\n",
       "\n",
       "    .dataframe thead th {\n",
       "        text-align: right;\n",
       "    }\n",
       "</style>\n",
       "<table border=\"1\" class=\"dataframe\">\n",
       "  <thead>\n",
       "    <tr style=\"text-align: right;\">\n",
       "      <th></th>\n",
       "      <th>doc_str</th>\n",
       "    </tr>\n",
       "    <tr>\n",
       "      <th>abstract_id</th>\n",
       "      <th></th>\n",
       "    </tr>\n",
       "  </thead>\n",
       "  <tbody>\n",
       "    <tr>\n",
       "      <th>11744656</th>\n",
       "      <td>During exercise, pulse oximetry is problemati...</td>\n",
       "    </tr>\n",
       "    <tr>\n",
       "      <th>11744658</th>\n",
       "      <td>The physiological and metabolic demands of hi...</td>\n",
       "    </tr>\n",
       "    <tr>\n",
       "      <th>11744678</th>\n",
       "      <td>This study compared the effect of repetitive ...</td>\n",
       "    </tr>\n",
       "    <tr>\n",
       "      <th>11774067</th>\n",
       "      <td>Abstract. Relations between frequently used i...</td>\n",
       "    </tr>\n",
       "    <tr>\n",
       "      <th>11782651</th>\n",
       "      <td>PURPOSE: To investigate the influences of men...</td>\n",
       "    </tr>\n",
       "    <tr>\n",
       "      <th>...</th>\n",
       "      <td>...</td>\n",
       "    </tr>\n",
       "    <tr>\n",
       "      <th>36235628</th>\n",
       "      <td>This research examined the effects of single-...</td>\n",
       "    </tr>\n",
       "    <tr>\n",
       "      <th>36237580</th>\n",
       "      <td>The issue of sports injury and rehabilitation...</td>\n",
       "    </tr>\n",
       "    <tr>\n",
       "      <th>36243785</th>\n",
       "      <td>Women with overweight or obesity (OWOB) have ...</td>\n",
       "    </tr>\n",
       "    <tr>\n",
       "      <th>36246968</th>\n",
       "      <td>PURPOSE: Cervical radiculopathy is disorder o...</td>\n",
       "    </tr>\n",
       "    <tr>\n",
       "      <th>36249264</th>\n",
       "      <td>OBJECTIVE: Cognitive function is essential in...</td>\n",
       "    </tr>\n",
       "  </tbody>\n",
       "</table>\n",
       "<p>20311 rows × 1 columns</p>\n",
       "</div>"
      ],
      "text/plain": [
       "                                                       doc_str\n",
       "abstract_id                                                   \n",
       "11744656      During exercise, pulse oximetry is problemati...\n",
       "11744658      The physiological and metabolic demands of hi...\n",
       "11744678      This study compared the effect of repetitive ...\n",
       "11774067      Abstract. Relations between frequently used i...\n",
       "11782651      PURPOSE: To investigate the influences of men...\n",
       "...                                                        ...\n",
       "36235628      This research examined the effects of single-...\n",
       "36237580      The issue of sports injury and rehabilitation...\n",
       "36243785      Women with overweight or obesity (OWOB) have ...\n",
       "36246968      PURPOSE: Cervical radiculopathy is disorder o...\n",
       "36249264      OBJECTIVE: Cognitive function is essential in...\n",
       "\n",
       "[20311 rows x 1 columns]"
      ]
     },
     "execution_count": 5,
     "metadata": {},
     "output_type": "execute_result"
    }
   ],
   "source": [
    "ct = pd.read_csv('pm-abstracts-DOCS2-CT.csv').set_index('abstract_id')\n",
    "ct"
   ]
  },
  {
   "cell_type": "code",
   "execution_count": 10,
   "id": "43159585",
   "metadata": {},
   "outputs": [],
   "source": [
    "words = ['app ']"
   ]
  },
  {
   "cell_type": "markdown",
   "id": "45e6dcd4",
   "metadata": {},
   "source": [
    "app = ct[ct['doc_str'].str.contains('|'.join(words))]\n",
    "app"
   ]
  },
  {
   "cell_type": "code",
   "execution_count": 12,
   "id": "73d7215c",
   "metadata": {},
   "outputs": [],
   "source": [
    "HD = ['heart disease', 'cardiovascular disease', 'clogged arteries', 'coronary disease', 'angina', 'heart failure', 'peripheral arterial disease', 'PAD', 'atherosclerosis', 'coronary', 'CAD', 'heart attack', 'arrhythmia', 'chest pain', 'heart', 'chest pain', 'chest tight' ]\n",
    "OB = ['obese', 'obesity', 'overweight', 'weight problem', 'BMI', 'excess weight', 'morbidly', 'body weight', 'body fat', 'fat', 'breathless', 'shortness']\n",
    "DB = ['diabetic', 'diabetics', 'diabetes', 'type 1', 'type 2', 'insulin', 'glucose','prediabetes', 'prediabetic', 'tingle', 'tingling', 'blurry', 'urination', 'urinating', 'urinates' ]\n",
    "MH = ['depression', 'anxiety', 'mental health', 'GAD', 'panic', 'burnout', 'depressive disorder', 'bipolar', 'MDD', 'PDD', 'PPD', 'OCD', 'trauma', 'PTSD', 'depressive','anxious', 'mental', 'psychological', 'restless', 'irritable', 'irritability', 'sleep']"
   ]
  },
  {
   "cell_type": "code",
   "execution_count": 21,
   "id": "5d483875",
   "metadata": {},
   "outputs": [
    {
     "data": {
      "text/html": [
       "<div>\n",
       "<style scoped>\n",
       "    .dataframe tbody tr th:only-of-type {\n",
       "        vertical-align: middle;\n",
       "    }\n",
       "\n",
       "    .dataframe tbody tr th {\n",
       "        vertical-align: top;\n",
       "    }\n",
       "\n",
       "    .dataframe thead th {\n",
       "        text-align: right;\n",
       "    }\n",
       "</style>\n",
       "<table border=\"1\" class=\"dataframe\">\n",
       "  <thead>\n",
       "    <tr style=\"text-align: right;\">\n",
       "      <th></th>\n",
       "      <th>doc_str</th>\n",
       "    </tr>\n",
       "    <tr>\n",
       "      <th>abstract_id</th>\n",
       "      <th></th>\n",
       "    </tr>\n",
       "  </thead>\n",
       "  <tbody>\n",
       "    <tr>\n",
       "      <th>24982490</th>\n",
       "      <td>BACKGROUND: Physical inactivity is a major, p...</td>\n",
       "    </tr>\n",
       "    <tr>\n",
       "      <th>29488798</th>\n",
       "      <td>BACKGROUND: Evidence on the efficacy of smart...</td>\n",
       "    </tr>\n",
       "    <tr>\n",
       "      <th>31761149</th>\n",
       "      <td>The importance of modifying lifestyle factors...</td>\n",
       "    </tr>\n",
       "    <tr>\n",
       "      <th>32324307</th>\n",
       "      <td>BACKGROUND: Supervised exercise therapy (SET)...</td>\n",
       "    </tr>\n",
       "    <tr>\n",
       "      <th>32771018</th>\n",
       "      <td>BACKGROUND: Technological progress has enable...</td>\n",
       "    </tr>\n",
       "    <tr>\n",
       "      <th>33882601</th>\n",
       "      <td>INTRODUCTION: Mobile phone-based intervention...</td>\n",
       "    </tr>\n",
       "    <tr>\n",
       "      <th>34334715</th>\n",
       "      <td>INTRODUCTION: Innovative strategies are neede...</td>\n",
       "    </tr>\n",
       "    <tr>\n",
       "      <th>34673536</th>\n",
       "      <td>BACKGROUND: Patients with inflammatory rheuma...</td>\n",
       "    </tr>\n",
       "  </tbody>\n",
       "</table>\n",
       "</div>"
      ],
      "text/plain": [
       "                                                       doc_str\n",
       "abstract_id                                                   \n",
       "24982490      BACKGROUND: Physical inactivity is a major, p...\n",
       "29488798      BACKGROUND: Evidence on the efficacy of smart...\n",
       "31761149      The importance of modifying lifestyle factors...\n",
       "32324307      BACKGROUND: Supervised exercise therapy (SET)...\n",
       "32771018      BACKGROUND: Technological progress has enable...\n",
       "33882601      INTRODUCTION: Mobile phone-based intervention...\n",
       "34334715      INTRODUCTION: Innovative strategies are neede...\n",
       "34673536      BACKGROUND: Patients with inflammatory rheuma..."
      ]
     },
     "execution_count": 21,
     "metadata": {},
     "output_type": "execute_result"
    }
   ],
   "source": [
    "H = app[app['doc_str'].str.contains('|'.join(HD))]\n",
    "H"
   ]
  },
  {
   "cell_type": "code",
   "execution_count": 20,
   "id": "5e12283d",
   "metadata": {},
   "outputs": [
    {
     "data": {
      "text/html": [
       "<div>\n",
       "<style scoped>\n",
       "    .dataframe tbody tr th:only-of-type {\n",
       "        vertical-align: middle;\n",
       "    }\n",
       "\n",
       "    .dataframe tbody tr th {\n",
       "        vertical-align: top;\n",
       "    }\n",
       "\n",
       "    .dataframe thead th {\n",
       "        text-align: right;\n",
       "    }\n",
       "</style>\n",
       "<table border=\"1\" class=\"dataframe\">\n",
       "  <thead>\n",
       "    <tr style=\"text-align: right;\">\n",
       "      <th></th>\n",
       "      <th>doc_str</th>\n",
       "    </tr>\n",
       "    <tr>\n",
       "      <th>abstract_id</th>\n",
       "      <th></th>\n",
       "    </tr>\n",
       "  </thead>\n",
       "  <tbody>\n",
       "    <tr>\n",
       "      <th>29488798</th>\n",
       "      <td>BACKGROUND: Evidence on the efficacy of smart...</td>\n",
       "    </tr>\n",
       "    <tr>\n",
       "      <th>34334715</th>\n",
       "      <td>INTRODUCTION: Innovative strategies are neede...</td>\n",
       "    </tr>\n",
       "  </tbody>\n",
       "</table>\n",
       "</div>"
      ],
      "text/plain": [
       "                                                       doc_str\n",
       "abstract_id                                                   \n",
       "29488798      BACKGROUND: Evidence on the efficacy of smart...\n",
       "34334715      INTRODUCTION: Innovative strategies are neede..."
      ]
     },
     "execution_count": 20,
     "metadata": {},
     "output_type": "execute_result"
    }
   ],
   "source": [
    "O = app[app['doc_str'].str.contains('|'.join(OB))]\n",
    "O"
   ]
  },
  {
   "cell_type": "code",
   "execution_count": 19,
   "id": "1c5e59da",
   "metadata": {},
   "outputs": [
    {
     "data": {
      "text/html": [
       "<div>\n",
       "<style scoped>\n",
       "    .dataframe tbody tr th:only-of-type {\n",
       "        vertical-align: middle;\n",
       "    }\n",
       "\n",
       "    .dataframe tbody tr th {\n",
       "        vertical-align: top;\n",
       "    }\n",
       "\n",
       "    .dataframe thead th {\n",
       "        text-align: right;\n",
       "    }\n",
       "</style>\n",
       "<table border=\"1\" class=\"dataframe\">\n",
       "  <thead>\n",
       "    <tr style=\"text-align: right;\">\n",
       "      <th></th>\n",
       "      <th>doc_str</th>\n",
       "    </tr>\n",
       "    <tr>\n",
       "      <th>abstract_id</th>\n",
       "      <th></th>\n",
       "    </tr>\n",
       "  </thead>\n",
       "  <tbody>\n",
       "    <tr>\n",
       "      <th>32771018</th>\n",
       "      <td>BACKGROUND: Technological progress has enable...</td>\n",
       "    </tr>\n",
       "    <tr>\n",
       "      <th>34334715</th>\n",
       "      <td>INTRODUCTION: Innovative strategies are neede...</td>\n",
       "    </tr>\n",
       "  </tbody>\n",
       "</table>\n",
       "</div>"
      ],
      "text/plain": [
       "                                                       doc_str\n",
       "abstract_id                                                   \n",
       "32771018      BACKGROUND: Technological progress has enable...\n",
       "34334715      INTRODUCTION: Innovative strategies are neede..."
      ]
     },
     "execution_count": 19,
     "metadata": {},
     "output_type": "execute_result"
    }
   ],
   "source": [
    "D = app[app['doc_str'].str.contains('|'.join(DB))]\n",
    "D"
   ]
  },
  {
   "cell_type": "code",
   "execution_count": 18,
   "id": "1bc72755",
   "metadata": {},
   "outputs": [
    {
     "data": {
      "text/html": [
       "<div>\n",
       "<style scoped>\n",
       "    .dataframe tbody tr th:only-of-type {\n",
       "        vertical-align: middle;\n",
       "    }\n",
       "\n",
       "    .dataframe tbody tr th {\n",
       "        vertical-align: top;\n",
       "    }\n",
       "\n",
       "    .dataframe thead th {\n",
       "        text-align: right;\n",
       "    }\n",
       "</style>\n",
       "<table border=\"1\" class=\"dataframe\">\n",
       "  <thead>\n",
       "    <tr style=\"text-align: right;\">\n",
       "      <th></th>\n",
       "      <th>doc_str</th>\n",
       "    </tr>\n",
       "    <tr>\n",
       "      <th>abstract_id</th>\n",
       "      <th></th>\n",
       "    </tr>\n",
       "  </thead>\n",
       "  <tbody>\n",
       "    <tr>\n",
       "      <th>31761149</th>\n",
       "      <td>The importance of modifying lifestyle factors...</td>\n",
       "    </tr>\n",
       "    <tr>\n",
       "      <th>34334715</th>\n",
       "      <td>INTRODUCTION: Innovative strategies are neede...</td>\n",
       "    </tr>\n",
       "  </tbody>\n",
       "</table>\n",
       "</div>"
      ],
      "text/plain": [
       "                                                       doc_str\n",
       "abstract_id                                                   \n",
       "31761149      The importance of modifying lifestyle factors...\n",
       "34334715      INTRODUCTION: Innovative strategies are neede..."
      ]
     },
     "execution_count": 18,
     "metadata": {},
     "output_type": "execute_result"
    }
   ],
   "source": [
    "M = app[app['doc_str'].str.contains('|'.join(MH))]\n",
    "M"
   ]
  },
  {
   "cell_type": "code",
   "execution_count": null,
   "id": "970b5eca",
   "metadata": {},
   "outputs": [],
   "source": []
  }
 ],
 "metadata": {
  "kernelspec": {
   "display_name": "python37",
   "language": "python",
   "name": "python37"
  },
  "language_info": {
   "codemirror_mode": {
    "name": "ipython",
    "version": 3
   },
   "file_extension": ".py",
   "mimetype": "text/x-python",
   "name": "python",
   "nbconvert_exporter": "python",
   "pygments_lexer": "ipython3",
   "version": "3.7.12"
  }
 },
 "nbformat": 4,
 "nbformat_minor": 5
}
